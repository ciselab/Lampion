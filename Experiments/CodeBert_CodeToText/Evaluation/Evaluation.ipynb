{
 "cells": [
  {
   "cell_type": "markdown",
   "metadata": {
    "pycharm": {
     "name": "#%% md\n"
    }
   },
   "source": [
    "# CodeBert Grid Experiment Evaluation\n",
    "\n",
    "Nice to see you around! Have a seat.\n",
    "Would you like a drink? Maybe a cigar?"
   ]
  },
  {
   "cell_type": "code",
   "execution_count": null,
   "metadata": {
    "pycharm": {
     "name": "#%%\n"
    }
   },
   "outputs": [],
   "source": [
    "import os"
   ]
  },
  {
   "cell_type": "code",
   "execution_count": null,
   "metadata": {
    "pycharm": {
     "name": "#%%\n"
    }
   },
   "outputs": [],
   "source": [
    "data_directory = \"./data/PreliminaryResults\"\n",
    "\n",
    "print(f\"looking for results in {data_directory}\" )\n",
    "\n",
    "property_files={}\n",
    "result_files={}\n",
    "\n",
    "for root,dirs,files in os.walk(data_directory):\n",
    "    for name in files:\n",
    "        if \"reference.gold\" in name:\n",
    "            result_files[\"gold\"]=os.path.join(root,name)\n",
    "        elif \"reference.output\" in name:\n",
    "            result_files[\"reference\"]=os.path.join(root,name)\n",
    "        elif \"config_\" in root and \".output\" in name:\n",
    "            result_files[os.path.basename(root)]=os.path.join(root,name)\n",
    "        elif \"config_\" in root and \".properties\" in name:\n",
    "            property_files[os.path.basename(root)]=os.path.join(root,name)\n",
    "\n",
    "print(f\"There were {len(result_files)} result- and {len(property_files)} property-files found.\")\n",
    "# Sanity Checks \n",
    "if \"gold\" not in result_files.keys():\n",
    "    print(\"There was no Gold-file for the results found!\")\n",
    "if \"reference\" not in result_files.keys():\n",
    "    print(\"There was no reference-file for the results found!\")"
   ]
  },
  {
   "cell_type": "code",
   "execution_count": null,
   "metadata": {},
   "outputs": [],
   "source": [
    "# initialize bare results\n",
    "results = {}\n",
    "# Fill them with file-paths\n",
    "for (key,value) in result_files.items():\n",
    "    results[key] = {}\n",
    "    results[key][\"result_file\"] = value\n",
    "\n",
    "for (key,value) in property_files.items():\n",
    "    results[key][\"property_file\"] = value"
   ]
  },
  {
   "cell_type": "code",
   "execution_count": null,
   "metadata": {
    "pycharm": {
     "name": "#%%\n"
    }
   },
   "outputs": [],
   "source": [
    "def load_properties(filepath, sep='=', comment_char='#'):\n",
    "    \"\"\"\n",
    "    Read the file passed as parameter as a properties file.\n",
    "    \"\"\"\n",
    "    props = {}\n",
    "    with open(filepath, \"rt\") as f:\n",
    "        for line in f:\n",
    "            l = line.strip()\n",
    "            if l and not l.startswith(comment_char):\n",
    "                key_value = l.split(sep)\n",
    "                key = key_value[0].strip()\n",
    "                value = sep.join(key_value[1:]).strip().strip('\"') \n",
    "                props[key] = value \n",
    "    return props\n"
   ]
  },
  {
   "cell_type": "code",
   "execution_count": null,
   "metadata": {},
   "outputs": [],
   "source": [
    "print(\"reading in property-files\")\n",
    "\n",
    "for key in property_files.keys():\n",
    "    prop_file = results[key][\"property_file\"]\n",
    "    if prop_file:\n",
    "        results[f\"{key}\"][\"properties\"]=load_properties(prop_file)"
   ]
  },
  {
   "cell_type": "code",
   "execution_count": null,
   "metadata": {},
   "outputs": [],
   "source": [
    "print(\"reading in result-files\")\n",
    "\n",
    "for key in results.keys():\n",
    "    result_file = results[key][\"result_file\"]\n",
    "    if result_file:\n",
    "        f = open(result_file)\n",
    "        lines=f.readlines()\n",
    "        results[key][\"results\"]={}\n",
    "        for l in lines:\n",
    "            num = int(l.split(\"\\t\")[0])\n",
    "            content = l.split(\"\\t\")[1]\n",
    "            content = content.strip()\n",
    "            results[key][\"results\"][num] = content\n",
    "        f.close()"
   ]
  },
  {
   "cell_type": "code",
   "execution_count": null,
   "metadata": {
    "pycharm": {
     "name": "#%%\n"
    }
   },
   "outputs": [],
   "source": [
    "results"
   ]
  },
  {
   "cell_type": "code",
   "execution_count": null,
   "metadata": {},
   "outputs": [],
   "source": [
    "import bleu_evaluator as foreign_bleu"
   ]
  },
  {
   "cell_type": "code",
   "execution_count": null,
   "metadata": {
    "scrolled": false
   },
   "outputs": [],
   "source": [
    "foreign_bleu.bleuFromMaps(results[\"gold\"][\"results\"],results[\"reference\"][\"results\"])"
   ]
  },
  {
   "cell_type": "code",
   "execution_count": null,
   "metadata": {},
   "outputs": [],
   "source": [
    "foreign_bleu.bleuFromMaps(results[\"gold\"][\"results\"],results[\"config_0\"][\"results\"])"
   ]
  },
  {
   "cell_type": "code",
   "execution_count": null,
   "metadata": {},
   "outputs": [],
   "source": [
    "%%time\n",
    "for key in results.keys():\n",
    "    if \"gold\" not in key:\n",
    "        bleu = foreign_bleu.bleuFromMaps(results[\"gold\"][\"results\"],results[key][\"results\"])\n",
    "        results[key][\"bleu\"]=bleu"
   ]
  }
 ],
 "metadata": {
  "kernelspec": {
   "display_name": "Python 3",
   "language": "python",
   "name": "python3"
  },
  "language_info": {
   "codemirror_mode": {
    "name": "ipython",
    "version": 3
   },
   "file_extension": ".py",
   "mimetype": "text/x-python",
   "name": "python",
   "nbconvert_exporter": "python",
   "pygments_lexer": "ipython3",
   "version": "3.8.6"
  }
 },
 "nbformat": 4,
 "nbformat_minor": 1
}
